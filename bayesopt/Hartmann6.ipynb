{
 "cells": [
  {
   "cell_type": "markdown",
   "metadata": {},
   "source": [
    "## Simple example for how to use BO with CIQ on Hartmann6\n",
    "You have to install the `ciq_bo` module and its dependencies before running this notebook"
   ]
  },
  {
   "cell_type": "code",
   "execution_count": 1,
   "metadata": {},
   "outputs": [
    {
     "name": "stdout",
     "output_type": "stream",
     "text": [
      "env: CUDA_VISIBLE_DEVICES=0\n"
     ]
    }
   ],
   "source": [
    "%set_env CUDA_VISIBLE_DEVICES = 0"
   ]
  },
  {
   "cell_type": "code",
   "execution_count": 2,
   "metadata": {},
   "outputs": [],
   "source": [
    "import matplotlib.pyplot as plt\n",
    "import torch\n",
    "from botorch.test_functions import Hartmann\n",
    "\n",
    "from ciq_bo import ThompsonSampling"
   ]
  },
  {
   "cell_type": "code",
   "execution_count": 3,
   "metadata": {},
   "outputs": [],
   "source": [
    "hartmann = Hartmann(dim=6)\n",
    "lb, ub = hartmann.bounds[0, :], hartmann.bounds[1, :]"
   ]
  },
  {
   "cell_type": "markdown",
   "metadata": {},
   "source": [
    "## Settings"
   ]
  },
  {
   "cell_type": "code",
   "execution_count": 4,
   "metadata": {},
   "outputs": [
    {
     "name": "stdout",
     "output_type": "stream",
     "text": [
      "100\n"
     ]
    }
   ],
   "source": [
    "n_runs = 30\n",
    "n_init = 10\n",
    "batch_size = 5\n",
    "n_iter = 18\n",
    "n_evals = n_init + batch_size * n_iter\n",
    "print(n_evals)"
   ]
  },
  {
   "cell_type": "markdown",
   "metadata": {},
   "source": [
    "## TS with Cholesky of size 5000 on the GPU"
   ]
  },
  {
   "cell_type": "code",
   "execution_count": 5,
   "metadata": {},
   "outputs": [
    {
     "name": "stdout",
     "output_type": "stream",
     "text": [
      "Iteration: 15, Best value = -1.468e+00\n",
      "Iteration: 20, Best value = -1.468e+00\n",
      "Iteration: 25, Best value = -1.468e+00\n",
      "Iteration: 30, Best value = -1.468e+00\n",
      "Iteration: 35, Best value = -1.468e+00\n",
      "Iteration: 40, Best value = -2.481e+00\n",
      "Iteration: 45, Best value = -2.481e+00\n",
      "Iteration: 50, Best value = -2.481e+00\n",
      "Iteration: 55, Best value = -2.977e+00\n",
      "Iteration: 60, Best value = -2.977e+00\n",
      "Iteration: 65, Best value = -2.977e+00\n",
      "Iteration: 70, Best value = -2.977e+00\n",
      "Iteration: 75, Best value = -2.977e+00\n",
      "Iteration: 80, Best value = -2.977e+00\n",
      "Iteration: 85, Best value = -3.099e+00\n",
      "Iteration: 90, Best value = -3.099e+00\n",
      "Iteration: 95, Best value = -3.099e+00\n",
      "Iteration: 100, Best value = -3.099e+00\n"
     ]
    }
   ],
   "source": [
    "ts_chol = ThompsonSampling(\n",
    "    f=hartmann,\n",
    "    lb=lb,\n",
    "    ub=ub,\n",
    "    n_init=n_init,\n",
    "    max_evals=n_evals,\n",
    "    batch_size=batch_size,\n",
    "    jitter=1e-4,\n",
    "    n_discrete_points=5000,\n",
    "    use_ciq=False,  # Uses Cholesky\n",
    "    dtype=torch.float32,\n",
    "    device=torch.device(\"cuda\"),  # Set to torch.device(\"cpu\") if you don't have a GPU\n",
    "    verbose=True,\n",
    ")\n",
    "\n",
    "fx_chol = ts_chol.optimize()"
   ]
  },
  {
   "cell_type": "markdown",
   "metadata": {},
   "source": [
    "## TS with CIQ of size 5000 on the GPU"
   ]
  },
  {
   "cell_type": "code",
   "execution_count": 6,
   "metadata": {},
   "outputs": [
    {
     "name": "stdout",
     "output_type": "stream",
     "text": [
      "Iteration: 15, Best value = -8.446e-01\n",
      "Iteration: 20, Best value = -8.446e-01\n",
      "Iteration: 25, Best value = -8.446e-01\n",
      "Iteration: 30, Best value = -1.414e+00\n",
      "Iteration: 35, Best value = -2.312e+00\n",
      "Iteration: 40, Best value = -2.394e+00\n",
      "Iteration: 45, Best value = -2.677e+00\n",
      "Iteration: 50, Best value = -2.684e+00\n",
      "Iteration: 55, Best value = -2.687e+00\n",
      "Iteration: 60, Best value = -2.831e+00\n",
      "Iteration: 65, Best value = -2.831e+00\n",
      "Iteration: 70, Best value = -2.831e+00\n",
      "Iteration: 75, Best value = -3.022e+00\n",
      "Iteration: 80, Best value = -3.022e+00\n",
      "Iteration: 85, Best value = -3.022e+00\n",
      "Iteration: 90, Best value = -3.022e+00\n",
      "Iteration: 95, Best value = -3.022e+00\n",
      "Iteration: 100, Best value = -3.104e+00\n"
     ]
    }
   ],
   "source": [
    "ts_ciq = ThompsonSampling(\n",
    "    f=hartmann,\n",
    "    lb=lb,\n",
    "    ub=ub,\n",
    "    n_init=n_init,\n",
    "    max_evals=n_evals,\n",
    "    batch_size=batch_size,\n",
    "    jitter=1e-4,\n",
    "    n_discrete_points=5000,\n",
    "    max_preconditioner_size=50,  # Increase if you have convergence issues\n",
    "    num_ciq_samples=15,  # 15 is usually enough\n",
    "    max_minres_iterations=200,  # Increase if you have convergence issues\n",
    "    minres_tolerance=1e-3,\n",
    "    use_ciq=True,\n",
    "    use_keops=False,  # Turn on if you run out of memory\n",
    "    dtype=torch.float32,\n",
    "    device=torch.device(\"cuda\"),  # CIQ is much faster on the GPU\n",
    "    verbose=True,\n",
    ")\n",
    "\n",
    "fx_ciq = ts_ciq.optimize()"
   ]
  },
  {
   "cell_type": "markdown",
   "metadata": {},
   "source": [
    "## TS with CIQ of size 20,000 on the GPU with KeOps"
   ]
  },
  {
   "cell_type": "code",
   "execution_count": 7,
   "metadata": {
    "scrolled": false
   },
   "outputs": [
    {
     "name": "stdout",
     "output_type": "stream",
     "text": [
      "Compiling libKeOpstorchdfa53c6b65 in /home/gpleiss/.cache/pykeops-1.4.1-cpython-37-gpu0/build-libKeOpstorchdfa53c6b65:\n",
      "       formula: Sum_Reduction(((((Var(0,1,2) * Sqrt(Sum(Square((Var(1,6,0) - Var(2,6,1)))))) + (IntCst(1) + (Var(3,1,2) * Square(Sqrt(Sum(Square((Var(1,6,0) - Var(2,6,1))))))))) * Exp((Var(4,1,2) * Sqrt(Sum(Square((Var(1,6,0) - Var(2,6,1)))))))) * Var(5,1,1)),0)\n",
      "       aliases: Var(0,1,2); Var(1,6,0); Var(2,6,1); Var(3,1,2); Var(4,1,2); Var(5,1,1); \n",
      "       dtype  : float32\n",
      "... Done.\n",
      "Iteration: 15, Best value = -1.758e+00\n",
      "Iteration: 20, Best value = -1.758e+00\n",
      "Iteration: 25, Best value = -1.789e+00\n",
      "Iteration: 30, Best value = -2.002e+00\n",
      "Iteration: 35, Best value = -2.554e+00\n",
      "Iteration: 40, Best value = -3.107e+00\n",
      "Iteration: 45, Best value = -3.107e+00\n",
      "Iteration: 50, Best value = -3.107e+00\n",
      "Iteration: 55, Best value = -3.133e+00\n",
      "Iteration: 60, Best value = -3.133e+00\n",
      "Iteration: 65, Best value = -3.133e+00\n",
      "Iteration: 70, Best value = -3.157e+00\n",
      "Iteration: 75, Best value = -3.157e+00\n",
      "Iteration: 80, Best value = -3.157e+00\n",
      "Iteration: 85, Best value = -3.157e+00\n",
      "Iteration: 90, Best value = -3.157e+00\n",
      "Iteration: 95, Best value = -3.157e+00\n",
      "Iteration: 100, Best value = -3.157e+00\n"
     ]
    }
   ],
   "source": [
    "ts_ciq_keops = ThompsonSampling(\n",
    "    f=hartmann,\n",
    "    lb=lb,\n",
    "    ub=ub,\n",
    "    n_init=n_init,\n",
    "    max_evals=n_evals,\n",
    "    batch_size=batch_size,\n",
    "    jitter=1e-4,\n",
    "    n_discrete_points=20000,\n",
    "    max_preconditioner_size=50,  # Increase if you have convergence issues\n",
    "    num_ciq_samples=15,  # 15 is usually enough\n",
    "    max_minres_iterations=200,  # Increase if you have convergence issues\n",
    "    minres_tolerance=1e-3,\n",
    "    use_ciq=True,\n",
    "    use_keops=True,  # Required to not run out of memory\n",
    "    dtype=torch.float32,\n",
    "    device=torch.device(\"cuda\"),  # CIQ is much faster on the GPU\n",
    "    verbose=True,\n",
    ")\n",
    "\n",
    "\n",
    "fx_ciq_keops = ts_ciq_keops.optimize()"
   ]
  },
  {
   "cell_type": "markdown",
   "metadata": {},
   "source": [
    "## Plot"
   ]
  },
  {
   "cell_type": "code",
   "execution_count": 8,
   "metadata": {},
   "outputs": [
    {
     "data": {
      "image/png": "[encoded data removed]",
      "text/plain": [
       "<Figure size 720x576 with 1 Axes>"
      ]
     },
     "metadata": {
      "needs_background": "light"
     },
     "output_type": "display_data"
    }
   ],
   "source": [
    "import matplotlib\n",
    "import numpy as np\n",
    "from matplotlib import rc\n",
    "\n",
    "rc(\"text\", usetex=False)\n",
    "\n",
    "\n",
    "fig = plt.figure(figsize=(10, 8))\n",
    "matplotlib.rcParams.update({\"font.size\": 20})\n",
    "\n",
    "results = [\n",
    "    (fx_chol.detach().cpu().numpy(), \"Chol-5000\", \"b\", \"\", 14, \"--\"),\n",
    "    (fx_ciq.detach().cpu().numpy(), \"CIQ-5000\", \"r\", \".\", 14, \"-\"),\n",
    "    (fx_ciq_keops.detach().cpu().numpy(), \"CIQ-20,000-KeOps\", \"g\", \"s\", 7, \"-\"),\n",
    "]\n",
    "\n",
    "optimum = hartmann.optimal_value\n",
    "\n",
    "ax = fig.add_subplot(1, 1, 1)\n",
    "names = []\n",
    "for res, name, c, m, ms, ls in results:\n",
    "    names.append(name)\n",
    "    fx = np.minimum.accumulate(res.ravel()) - optimum\n",
    "    t = np.arange(len(fx))\n",
    "    nn = int(len(t) / 30)\n",
    "    plt.plot(t[0::nn], fx[0::nn], c=c, marker=m, linestyle=ls, markersize=ms)\n",
    "\n",
    "plt.yscale(\"log\")\n",
    "plt.title(\"Hartmann6\")\n",
    "plt.ylabel(\"Regret\")\n",
    "plt.xlabel(\"Number of evaluations\")\n",
    "plt.xlim([0, n_init + batch_size * n_iter])\n",
    "plt.ylim([0.1, 1])\n",
    "ax.set_yticks([0.1, 0.15, 0.25, 0.4, 0.8, 1.6, 3.2])\n",
    "ax.set_yticklabels([0.1, 0.15, 0.25, 0.4, 0.8, 1.6, 3.2])\n",
    "plt.grid(True)\n",
    "\n",
    "plt.legend(names, loc=\"upper right\")\n",
    "plt.show()"
   ]
  },
  {
   "cell_type": "code",
   "execution_count": null,
   "metadata": {},
   "outputs": [],
   "source": []
  }
 ],
 "metadata": {
  "kernelspec": {
   "display_name": "Python 3",
   "language": "python",
   "name": "python3"
  },
  "language_info": {
   "codemirror_mode": {
    "name": "ipython",
    "version": 3
   },
   "file_extension": ".py",
   "mimetype": "text/x-python",
   "name": "python",
   "nbconvert_exporter": "python",
   "pygments_lexer": "ipython3",
   "version": "3.7.0"
  }
 },
 "nbformat": 4,
 "nbformat_minor": 2
}
